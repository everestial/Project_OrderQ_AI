{
 "cells": [
  {
   "cell_type": "markdown",
   "metadata": {},
   "source": [
    "# Complete Demonstration of OrderQ AI\n",
    "\n",
    "This notebook showcases the full capabilities of the OrderQ AI system,\n",
    "including training, testing, and production use-case demonstrations."
   ]
  },
  {
   "cell_type": "code",
   "execution_count": null,
   "metadata": {},
   "outputs": [],
   "source": [
    "import json\n",
    "import os\n",
    "from process_order import process_order, initialize_model\n"
   ]
  },
  {
   "cell_type": "markdown",
   "metadata": {},
   "source": [
    "## Verify Trained Model\n",
    "Let's make sure the trained model is available before proceeding."
   ]
  },
  {
   "cell_type": "code",
   "execution_count": null,
   "metadata": {},
   "outputs": [],
   "source": [
    "if not os.path.exists('./trained_model'):\n",
    "    raise FileNotFoundError('Trained model not found! Please run the training script first.')\n",
    "model, tokenizer, device = initialize_model('./trained_model')\n",
    "print('✅ Trained model loaded successfully!')"
   ]
  },
  {
   "cell_type": "markdown",
   "metadata": {},
   "source": [
    "## Process Sample Orders\n",
    "We'll now process a set of sample orders covering various scenarios."
   ]
  },
  {
   "cell_type": "code",
   "execution_count": null,
   "metadata": {},
   "outputs": [],
   "source": [
    "demo_orders = [\n",
    "    {\"name\": \"Pizza Delivery\",\n",
    "     \"text\": \"Hello, my name is John Smith. I'd like to order 2 large pizzas with extra cheese and 3 diet cokes for delivery please.\"},\n",
    "    {\"name\": \"Takeout Order\",\n",
    "     \"text\": \"Hi, this is Sarah Johnson. I need 1 burger with no onions and 2 coffees for takeout.\"},\n",
    "    {\"name\": \"Dine-in Order\",\n",
    "     \"text\": \"Good evening, I'm Mike Davis. Can I get 3 chicken sandwiches with extra pickles and 1 salad for dine-in?\"},\n",
    "    {\"name\": \"Complex Order\",\n",
    "     \"text\": \"Hi, Anna Wilson here. I want 4 large pizzas with extra cheese and pepperoni, 2 diet cokes, 3 regular cokes, and 1 salad with no tomatoes for delivery.\"},\n",
    "    {\"name\": \"Simple Order\",\n",
    "     \"text\": \"Hello, Tom Brown. Just 2 burgers please.\"}\n",
    "]\n",
    "\n",
    "results = []\n",
    "successful_orders = 0\n",
    "\n",
    "for i, order in enumerate(demo_orders, 1):\n",
    "    result = process_order(model, tokenizer, device, order['text'])\n",
    "    if result['status'] == 'success':\n",
    "        successful_orders += 1\n",
    "    results.append((order['name'], result))\n",
    "\n",
    "print(f'Processed {len(results)} orders with a success rate of {successful_orders/len(results)*100:.1f}%')"
   ]
  },
  {
   "cell_type": "markdown",
   "metadata": {},
   "source": [
    "## Results\n",
    "Here are the detailed results of each processed order."
   ]
  },
  {
   "cell_type": "code",
   "execution_count": null,
   "metadata": {},
   "outputs": [],
   "source": [
    "for name, result in results:\n",
    "    print(f'Order: {name}')\n",
    "    if result['status'] == 'success':\n",
    "        parsed = json.loads(result['result'])\n",
    "        print(f'  Customer: {parsed.get('customer_name', 'Unknown')}')\n",
    "        print(f'  Type: {parsed.get('order_type', 'Unknown')}')\n",
    "        print(f'  Items: {parsed.get('order_items_name', 'Unknown').replace('|', ', ')}')\n",
    "        print(f'  Quantities: {parsed.get('order_items_quantity', 'Unknown').replace('|', ', ')}')\n",
    "    else:\n",
    "        print('  Processing failed!')\n",
    "    print('\n')"
   ]
  }
 ],
 "metadata": {
  "kernelspec": {
   "display_name": "Python 3",
   "language": "python",
   "name": "python3"
  },
  "language_info": {
   "codemirror_mode": {
    "name": "ipython",
    "version": 3
   },
   "file_extension": ".py",
   "mimetype": "text/x-python",
   "name": "python",
   "nbconvert_exporter": "python",
   "pygments_lexer": "ipython3",
   "version": "3.8"
  }
 },
 "nbformat": 4,
 "nbformat_minor": 5
}

